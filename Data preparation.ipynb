{
 "cells": [
  {
   "cell_type": "code",
   "execution_count": 1,
   "metadata": {},
   "outputs": [],
   "source": [
    "import pandas as pd\n",
    "import numpy as np\n",
    "from scipy.stats import norm\n",
    "from matplotlib import pyplot as plt\n",
    "from sklearn.linear_model import LinearRegression"
   ]
  },
  {
   "cell_type": "markdown",
   "metadata": {},
   "source": [
    "## load dataset"
   ]
  },
  {
   "cell_type": "code",
   "execution_count": 12,
   "metadata": {},
   "outputs": [],
   "source": [
    "members=pd.read_csv(\"members_FY.csv\")"
   ]
  },
  {
   "cell_type": "code",
   "execution_count": 42,
   "metadata": {},
   "outputs": [],
   "source": [
    "tender=pd.read_csv(\"tender_type.csv\",sep = \"|\", encoding = \"ISO-8859-1\")"
   ]
  },
  {
   "cell_type": "code",
   "execution_count": 2,
   "metadata": {},
   "outputs": [],
   "source": [
    "pos=pd.read_csv(\"pos.csv\",sep = \"|\", encoding = \"ISO-8859-1\")"
   ]
  },
  {
   "cell_type": "markdown",
   "metadata": {},
   "source": [
    "## get number of visit"
   ]
  },
  {
   "cell_type": "code",
   "execution_count": 3,
   "metadata": {
    "scrolled": false
   },
   "outputs": [],
   "source": [
    "num_visit=pos[['MEMBERSHIP_ID','VISIT_NBR']].groupby('VISIT_NBR').count()\n",
    "num_visit=pd.merge(pos[['MEMBERSHIP_ID','VISIT_NBR']],num_visit,how='left',on='VISIT_NBR')\n",
    "num_visit=num_visit.rename(index=str,columns={\"MEMBERSHIP_ID_x\":\"MEMBERSHIP_ID\",\"VISIT_NBR\":\"VISIT_NBR\",\"MEMBERSHIP_ID_y\":\"num_visit\"})"
   ]
  },
  {
   "cell_type": "markdown",
   "metadata": {},
   "source": [
    "## Get a new table with visit information: frequency, time"
   ]
  },
  {
   "cell_type": "code",
   "execution_count": 5,
   "metadata": {},
   "outputs": [],
   "source": [
    "#people have same visit number but different visit time\n",
    "pos_visit=pos[['VISIT_DATE','VISIT_NBR']]\n",
    "#pos_visit=pd.merge(pos_visit,num_visit,how='left',on='VISIT_NBR')\n",
    "pos_visit=pos_visit.drop_duplicates(subset=['VISIT_NBR'])"
   ]
  },
  {
   "cell_type": "code",
   "execution_count": 7,
   "metadata": {},
   "outputs": [],
   "source": [
    "pos_visit=pd.merge(pos_visit,num_visit,how='left', on='VISIT_NBR')"
   ]
  },
  {
   "cell_type": "code",
   "execution_count": 21,
   "metadata": {},
   "outputs": [],
   "source": [
    "pos_visit=pos_visit.drop_duplicates(subset=['MEMBERSHIP_ID'])\n",
    "members_simple=members[['MEMBERSHIP_ID','RENEW_IND','PLUS_STATUS_BEFORE_REN']]\n",
    "visit=pd.merge(members_simple,pos_visit,how='left',on='MEMBERSHIP_ID')"
   ]
  },
  {
   "cell_type": "code",
   "execution_count": 41,
   "metadata": {},
   "outputs": [],
   "source": [
    "#visit.to_csv(\"visit.csv\")"
   ]
  },
  {
   "cell_type": "markdown",
   "metadata": {},
   "source": [
    "## clean \"members\" dataset"
   ]
  },
  {
   "cell_type": "code",
   "execution_count": 185,
   "metadata": {},
   "outputs": [],
   "source": [
    "#Clean members dataset again\n",
    "members=members.drop(columns=['Unnamed: 0','MEMBERSHIP_TYPE_DESC','COHORT_MONTH','LAST_RENEW_DATE','RENEW_DATE','NEXT_RENEW_DATE','JOIN_DATE',\"PLUS_UPGRADE_DATE\"])"
   ]
  },
  {
   "cell_type": "code",
   "execution_count": 186,
   "metadata": {},
   "outputs": [
    {
     "data": {
      "text/html": [
       "<div>\n",
       "<style scoped>\n",
       "    .dataframe tbody tr th:only-of-type {\n",
       "        vertical-align: middle;\n",
       "    }\n",
       "\n",
       "    .dataframe tbody tr th {\n",
       "        vertical-align: top;\n",
       "    }\n",
       "\n",
       "    .dataframe thead th {\n",
       "        text-align: right;\n",
       "    }\n",
       "</style>\n",
       "<table border=\"1\" class=\"dataframe\">\n",
       "  <thead>\n",
       "    <tr style=\"text-align: right;\">\n",
       "      <th></th>\n",
       "      <th>MEMBERSHIP_ID</th>\n",
       "      <th>MEMBERSHIP_TYPE_CODE</th>\n",
       "      <th>MEMBERSHIP_TYPE_DESC</th>\n",
       "      <th>MILES_TO_CLUB</th>\n",
       "      <th>hhh_age_desc</th>\n",
       "      <th>marital_status_desc</th>\n",
       "      <th>income_desc</th>\n",
       "      <th>hh_size_desc</th>\n",
       "      <th>nbr_children_desc</th>\n",
       "      <th>ethnic_desc</th>\n",
       "      <th>TENURE_GRP</th>\n",
       "      <th>RENEW_IND</th>\n",
       "      <th>PLUS_STATUS_BEFORE_REN</th>\n",
       "      <th>PLUS_STATUS_AFTER_REN</th>\n",
       "      <th>PLUS_MEMBERSHIP_IND</th>\n",
       "      <th>autorenew_ind</th>\n",
       "      <th>payroll_deduct_ind</th>\n",
       "    </tr>\n",
       "  </thead>\n",
       "  <tbody>\n",
       "    <tr>\n",
       "      <th>0</th>\n",
       "      <td>55081</td>\n",
       "      <td>2</td>\n",
       "      <td>SAVINGS</td>\n",
       "      <td>NaN</td>\n",
       "      <td>NaN</td>\n",
       "      <td>NaN</td>\n",
       "      <td>NaN</td>\n",
       "      <td>NaN</td>\n",
       "      <td>NaN</td>\n",
       "      <td>NaN</td>\n",
       "      <td>1</td>\n",
       "      <td>0</td>\n",
       "      <td>2</td>\n",
       "      <td>NaN</td>\n",
       "      <td>0</td>\n",
       "      <td>0</td>\n",
       "      <td>0</td>\n",
       "    </tr>\n",
       "    <tr>\n",
       "      <th>1</th>\n",
       "      <td>168584</td>\n",
       "      <td>2</td>\n",
       "      <td>SAVINGS</td>\n",
       "      <td>2.80</td>\n",
       "      <td>Age 76 - 77</td>\n",
       "      <td>NaN</td>\n",
       "      <td>1</td>\n",
       "      <td>2.0</td>\n",
       "      <td>0.0</td>\n",
       "      <td>0</td>\n",
       "      <td>1</td>\n",
       "      <td>0</td>\n",
       "      <td>2</td>\n",
       "      <td>NaN</td>\n",
       "      <td>1</td>\n",
       "      <td>0</td>\n",
       "      <td>0</td>\n",
       "    </tr>\n",
       "    <tr>\n",
       "      <th>2</th>\n",
       "      <td>211504</td>\n",
       "      <td>3</td>\n",
       "      <td>BUSINESS</td>\n",
       "      <td>NaN</td>\n",
       "      <td>NaN</td>\n",
       "      <td>NaN</td>\n",
       "      <td>NaN</td>\n",
       "      <td>NaN</td>\n",
       "      <td>NaN</td>\n",
       "      <td>NaN</td>\n",
       "      <td>1</td>\n",
       "      <td>0</td>\n",
       "      <td>2</td>\n",
       "      <td>NaN</td>\n",
       "      <td>1</td>\n",
       "      <td>0</td>\n",
       "      <td>0</td>\n",
       "    </tr>\n",
       "    <tr>\n",
       "      <th>3</th>\n",
       "      <td>39986</td>\n",
       "      <td>2</td>\n",
       "      <td>SAVINGS</td>\n",
       "      <td>1.15</td>\n",
       "      <td>Age 54 - 55</td>\n",
       "      <td>0</td>\n",
       "      <td>2</td>\n",
       "      <td>1.0</td>\n",
       "      <td>0.0</td>\n",
       "      <td>0</td>\n",
       "      <td>1</td>\n",
       "      <td>1</td>\n",
       "      <td>2</td>\n",
       "      <td>2.0</td>\n",
       "      <td>1</td>\n",
       "      <td>0</td>\n",
       "      <td>0</td>\n",
       "    </tr>\n",
       "    <tr>\n",
       "      <th>4</th>\n",
       "      <td>260907</td>\n",
       "      <td>2</td>\n",
       "      <td>SAVINGS</td>\n",
       "      <td>NaN</td>\n",
       "      <td>NaN</td>\n",
       "      <td>NaN</td>\n",
       "      <td>NaN</td>\n",
       "      <td>NaN</td>\n",
       "      <td>NaN</td>\n",
       "      <td>NaN</td>\n",
       "      <td>1</td>\n",
       "      <td>0</td>\n",
       "      <td>1</td>\n",
       "      <td>NaN</td>\n",
       "      <td>0</td>\n",
       "      <td>0</td>\n",
       "      <td>0</td>\n",
       "    </tr>\n",
       "    <tr>\n",
       "      <th>5</th>\n",
       "      <td>163426</td>\n",
       "      <td>2</td>\n",
       "      <td>SAVINGS</td>\n",
       "      <td>32.62</td>\n",
       "      <td>Age 30 - 31</td>\n",
       "      <td>1</td>\n",
       "      <td>0</td>\n",
       "      <td>3.0</td>\n",
       "      <td>0.0</td>\n",
       "      <td>0</td>\n",
       "      <td>1</td>\n",
       "      <td>0</td>\n",
       "      <td>1</td>\n",
       "      <td>NaN</td>\n",
       "      <td>0</td>\n",
       "      <td>0</td>\n",
       "      <td>0</td>\n",
       "    </tr>\n",
       "    <tr>\n",
       "      <th>6</th>\n",
       "      <td>79292</td>\n",
       "      <td>2</td>\n",
       "      <td>SAVINGS</td>\n",
       "      <td>20.92</td>\n",
       "      <td>Age 24 - 25</td>\n",
       "      <td>1</td>\n",
       "      <td>1</td>\n",
       "      <td>6.0</td>\n",
       "      <td>2.0</td>\n",
       "      <td>0</td>\n",
       "      <td>1</td>\n",
       "      <td>1</td>\n",
       "      <td>1</td>\n",
       "      <td>1.0</td>\n",
       "      <td>0</td>\n",
       "      <td>1</td>\n",
       "      <td>0</td>\n",
       "    </tr>\n",
       "    <tr>\n",
       "      <th>7</th>\n",
       "      <td>38280</td>\n",
       "      <td>2</td>\n",
       "      <td>SAVINGS</td>\n",
       "      <td>1.71</td>\n",
       "      <td>Age 98 - 99</td>\n",
       "      <td>NaN</td>\n",
       "      <td>1</td>\n",
       "      <td>1.0</td>\n",
       "      <td>0.0</td>\n",
       "      <td>0</td>\n",
       "      <td>1</td>\n",
       "      <td>1</td>\n",
       "      <td>1</td>\n",
       "      <td>1.0</td>\n",
       "      <td>0</td>\n",
       "      <td>0</td>\n",
       "      <td>0</td>\n",
       "    </tr>\n",
       "    <tr>\n",
       "      <th>8</th>\n",
       "      <td>4040</td>\n",
       "      <td>2</td>\n",
       "      <td>SAVINGS</td>\n",
       "      <td>22.07</td>\n",
       "      <td>Age 72 - 73</td>\n",
       "      <td>1</td>\n",
       "      <td>1</td>\n",
       "      <td>3.0</td>\n",
       "      <td>0.0</td>\n",
       "      <td>0</td>\n",
       "      <td>1</td>\n",
       "      <td>0</td>\n",
       "      <td>1</td>\n",
       "      <td>NaN</td>\n",
       "      <td>0</td>\n",
       "      <td>0</td>\n",
       "      <td>0</td>\n",
       "    </tr>\n",
       "    <tr>\n",
       "      <th>9</th>\n",
       "      <td>113302</td>\n",
       "      <td>3</td>\n",
       "      <td>BUSINESS</td>\n",
       "      <td>6.74</td>\n",
       "      <td>Age 58 - 59</td>\n",
       "      <td>1</td>\n",
       "      <td>0</td>\n",
       "      <td>2.0</td>\n",
       "      <td>0.0</td>\n",
       "      <td>0</td>\n",
       "      <td>1</td>\n",
       "      <td>1</td>\n",
       "      <td>2</td>\n",
       "      <td>2.0</td>\n",
       "      <td>0</td>\n",
       "      <td>0</td>\n",
       "      <td>0</td>\n",
       "    </tr>\n",
       "  </tbody>\n",
       "</table>\n",
       "</div>"
      ],
      "text/plain": [
       "   MEMBERSHIP_ID  MEMBERSHIP_TYPE_CODE MEMBERSHIP_TYPE_DESC  MILES_TO_CLUB  \\\n",
       "0          55081                     2              SAVINGS            NaN   \n",
       "1         168584                     2              SAVINGS           2.80   \n",
       "2         211504                     3             BUSINESS            NaN   \n",
       "3          39986                     2              SAVINGS           1.15   \n",
       "4         260907                     2              SAVINGS            NaN   \n",
       "5         163426                     2              SAVINGS          32.62   \n",
       "6          79292                     2              SAVINGS          20.92   \n",
       "7          38280                     2              SAVINGS           1.71   \n",
       "8           4040                     2              SAVINGS          22.07   \n",
       "9         113302                     3             BUSINESS           6.74   \n",
       "\n",
       "  hhh_age_desc marital_status_desc income_desc  hh_size_desc  \\\n",
       "0          NaN                 NaN         NaN           NaN   \n",
       "1  Age 76 - 77                 NaN           1           2.0   \n",
       "2          NaN                 NaN         NaN           NaN   \n",
       "3  Age 54 - 55                   0           2           1.0   \n",
       "4          NaN                 NaN         NaN           NaN   \n",
       "5  Age 30 - 31                   1           0           3.0   \n",
       "6  Age 24 - 25                   1           1           6.0   \n",
       "7  Age 98 - 99                 NaN           1           1.0   \n",
       "8  Age 72 - 73                   1           1           3.0   \n",
       "9  Age 58 - 59                   1           0           2.0   \n",
       "\n",
       "   nbr_children_desc ethnic_desc  TENURE_GRP  RENEW_IND  \\\n",
       "0                NaN         NaN           1          0   \n",
       "1                0.0           0           1          0   \n",
       "2                NaN         NaN           1          0   \n",
       "3                0.0           0           1          1   \n",
       "4                NaN         NaN           1          0   \n",
       "5                0.0           0           1          0   \n",
       "6                2.0           0           1          1   \n",
       "7                0.0           0           1          1   \n",
       "8                0.0           0           1          0   \n",
       "9                0.0           0           1          1   \n",
       "\n",
       "   PLUS_STATUS_BEFORE_REN  PLUS_STATUS_AFTER_REN  PLUS_MEMBERSHIP_IND  \\\n",
       "0                       2                    NaN                    0   \n",
       "1                       2                    NaN                    1   \n",
       "2                       2                    NaN                    1   \n",
       "3                       2                    2.0                    1   \n",
       "4                       1                    NaN                    0   \n",
       "5                       1                    NaN                    0   \n",
       "6                       1                    1.0                    0   \n",
       "7                       1                    1.0                    0   \n",
       "8                       1                    NaN                    0   \n",
       "9                       2                    2.0                    0   \n",
       "\n",
       "   autorenew_ind  payroll_deduct_ind  \n",
       "0              0                   0  \n",
       "1              0                   0  \n",
       "2              0                   0  \n",
       "3              0                   0  \n",
       "4              0                   0  \n",
       "5              0                   0  \n",
       "6              1                   0  \n",
       "7              0                   0  \n",
       "8              0                   0  \n",
       "9              0                   0  "
      ]
     },
     "execution_count": 186,
     "metadata": {},
     "output_type": "execute_result"
    }
   ],
   "source": [
    "# encode the label of categorical data\n",
    "#income: low:0,middle:1,high:2\n",
    "# Westrn European & Eastrn European & Greek & Scandinavian:0,African Americn & Native Americn & Hispanic：1,\n",
    "#Korean & Chinese& Asian Other & Vietnamese& Jewish&Middle Eastern:2,Polynesian:3\n",
    "replace_col={\"marital_status_desc\":{\"Unknown\":\"NaN\",\"Single\":0,\"Married\":1},\n",
    "            \"PLUS_STATUS_BEFORE_REN\":{\"BASE\":1,\"PLUS\":2},\n",
    "            \"PLUS_STATUS_AFTER_REN\":{\"BASE\":1,\"PLUS\":2},\n",
    "            \"PLUS_MEMBERSHIP_IND\":{\"N\":0,\"Y\":1},\n",
    "            \"autorenew_ind\":{\"N\":0,\"Y\":1},\n",
    "            \"payroll_deduct_ind\":{\"N\":0,\"Y\":1},\n",
    "            \"RENEW_IND\":{2:1},\n",
    "            \"income_desc\":{\"$50K - $74K\":1,'$150K +':2,'< $15K':0,'$35K - $49K':1,'$75K - $99K':1,'$25K - $34K':0,\n",
    "                          '$100K-$124K':2,'$15K - $24K':0,'$125K-$149K':2,'Unknown':\"NaN\"},\n",
    "            \"ethnic_desc\":{'Unknown':\"NaN\",'Westrn European':0,'Eastrn European':0,'Greek':0,'Scandinavian':0,\n",
    "                          'African Americn':1,'Native Americn':1,'Hispanic':1,'Korean':2,'Chinese':2,\n",
    "                          'Jewish':2,'Vietnamese':2,'Asian Other':2,'Middle Eastern':2,'Polynesian':3}}\n",
    "members.replace(replace_col,inplace=True)\n",
    "#deal with the hhh_age_desc\n",
    "#members.hhh_age_desc=members.hhh_age_desc.str.extract('(\\d+)')\n",
    "#I use R to categorize the age and use python to load the dataset back\n",
    "#MEMBERSHIP_TYPE_CODE: 2 for Savings and 3 for Business\n",
    "members=pd.read_csv(\"mb1.csv\")\n",
    "members=members.drop(columns=['Unnamed: 0','X',\"MEMBERSHIP_TYPE_DESC\"])\n",
    "members.head(10)"
   ]
  },
  {
   "cell_type": "markdown",
   "metadata": {},
   "source": [
    "## Create a summary of \"pos\" dataset"
   ]
  },
  {
   "cell_type": "code",
   "execution_count": 103,
   "metadata": {},
   "outputs": [],
   "source": [
    "cat_name=pos[['MEMBERSHIP_ID','CATEGORY_DESC']]\n",
    "#create a pivot table to summarize the purchase categories of each customer\n",
    "table = pd.pivot_table(cat_name,index = ['MEMBERSHIP_ID'],columns=['CATEGORY_DESC'], aggfunc = lambda x : len(x))\n",
    "\n",
    "pos['spending']=pos['RETAIL_PRICE']*pos[\"UNIT_QTY\"]\n",
    "pos_summary=pos.groupby('MEMBERSHIP_ID')['spending'].sum()\n",
    "pos_summary=pd.DataFrame(pos_summary)\n",
    "pos_summary['num_visit']=pos.groupby('MEMBERSHIP_ID')['VISIT_NBR'].count()\n",
    "pos_summary['num_purchase_type']=pos.groupby('MEMBERSHIP_ID')['PRIMARY_DESC'].nunique()\n",
    "\n",
    "data=pd.merge(pos_summary,table,how='left',on='MEMBERSHIP_ID')# merge the two dataset and create the final cleaned pos"
   ]
  },
  {
   "cell_type": "code",
   "execution_count": 234,
   "metadata": {},
   "outputs": [],
   "source": [
    "comb_data=pd.merge(members,data,how='left',on='MEMBERSHIP_ID')# combine the members and summarized pos\n",
    "comb_data=comb_data.drop(columns=['num_visit'])\n",
    "comb_data=pd.merge(comb_data,pos_visit,how='left',on='MEMBERSHIP_ID')\n",
    "#comb_data.to_csv(\"Final_data\")\n",
    "#comb_data=pd.read_csv(\"Final_data.csv\")"
   ]
  },
  {
   "cell_type": "code",
   "execution_count": 25,
   "metadata": {},
   "outputs": [],
   "source": [
    "comb_data=pd.read_csv(\"Final_data.csv\")"
   ]
  },
  {
   "cell_type": "markdown",
   "metadata": {},
   "source": [
    "## Get the payment method table"
   ]
  },
  {
   "cell_type": "code",
   "execution_count": 43,
   "metadata": {},
   "outputs": [],
   "source": [
    "pos_visit_nbr=pos[['MEMBERSHIP_ID','VISIT_NBR']]\n",
    "pos_payment=pd.merge(pos_visit_nbr,tender,how='left',on='VISIT_NBR')\n",
    "\n",
    "# Categorize the payment method into three categories: cash, credit, saving\n",
    "#cash:0,credit:1,saving:2\n",
    "pay_cat={'TENDER_TYPE_DESC':{'Mastercard                              ':1,\n",
    "                            'Debit Card                              ':2,\n",
    "                            'Cash (change)                           ':0,\n",
    "                            'Visa                                    ':1,\n",
    "                            'Sams Consumer Credit                    ':1,\n",
    "                            'Rx third party sales                    ':1,\n",
    "                            'Shopping Card                           ':2,\n",
    "                            'EBT Foodstamps                          ':2,\n",
    "                            'Associate Discount Card                 ':1,\n",
    "                            'American Express                        ':1,\n",
    "                            'Discover                                ':1,\n",
    "                            'Coupon                                  ':2,\n",
    "                            'Electronic Check (ECA)                  ':2,\n",
    "                            'Wal-Mart Credit Card                    ':1,\n",
    "                            'Sams Business Credit                    ':1,\n",
    "                            'Unknown                                 ':\"NaN\",\n",
    "                            'DOTCOM                                  ':1,\n",
    "                            'Check                                   ':2,\n",
    "                            'Service Income                          ':2,\n",
    "                            'Payroll Check                           ':2,\n",
    "                            'EBT Cash                                ':0,\n",
    "                            'Fleet                                   ':\"NaN\", \n",
    "                             'Coin Voucher                            ':2,\n",
    "                             'Sams Direct Credit                      ':1,\n",
    "                            'nan':'NaN'}}\n",
    "pos_payment.replace(pay_cat,inplace=True)\n",
    "pos_payment_method=pos_payment[['MEMBERSHIP_ID','TENDER_TYPE_DESC']]"
   ]
  },
  {
   "cell_type": "code",
   "execution_count": 46,
   "metadata": {
    "scrolled": true
   },
   "outputs": [],
   "source": [
    "renew_id=comb_data[['MEMBERSHIP_ID','RENEW_IND','PLUS_STATUS_BEFORE_REN']]\n",
    "renew_pay=pd.merge(pos_payment_method,renew_id,how='left',on='MEMBERSHIP_ID')\n",
    "renew_pay_type=renew_pay[['MEMBERSHIP_ID','TENDER_TYPE_DESC']]\n",
    "renew_pay_type=renew_pay_type[renew_pay_type.TENDER_TYPE_DESC.isin([1,2,0])]# Choose only those who pay in those methods\n",
    "renew_pay_type=renew_pay_type[['MEMBERSHIP_ID','TENDER_TYPE_DESC']]\n",
    "#create a pivot table to transpose the payment method type for each member and count together\n",
    "table_pay = pd.pivot_table(renew_pay_type,index = ['MEMBERSHIP_ID'],columns=['TENDER_TYPE_DESC'], aggfunc = lambda x : len(x))\n",
    "rp=renew_pay[['MEMBERSHIP_ID','RENEW_IND','PLUS_STATUS_BEFORE_REN']]"
   ]
  },
  {
   "cell_type": "code",
   "execution_count": 49,
   "metadata": {},
   "outputs": [
    {
     "data": {
      "text/html": [
       "<div>\n",
       "<style scoped>\n",
       "    .dataframe tbody tr th:only-of-type {\n",
       "        vertical-align: middle;\n",
       "    }\n",
       "\n",
       "    .dataframe tbody tr th {\n",
       "        vertical-align: top;\n",
       "    }\n",
       "\n",
       "    .dataframe thead th {\n",
       "        text-align: right;\n",
       "    }\n",
       "</style>\n",
       "<table border=\"1\" class=\"dataframe\">\n",
       "  <thead>\n",
       "    <tr style=\"text-align: right;\">\n",
       "      <th>TENDER_TYPE_DESC</th>\n",
       "      <th>0</th>\n",
       "      <th>1</th>\n",
       "      <th>2</th>\n",
       "    </tr>\n",
       "    <tr>\n",
       "      <th>MEMBERSHIP_ID</th>\n",
       "      <th></th>\n",
       "      <th></th>\n",
       "      <th></th>\n",
       "    </tr>\n",
       "  </thead>\n",
       "  <tbody>\n",
       "    <tr>\n",
       "      <th>1</th>\n",
       "      <td>207.0</td>\n",
       "      <td>142.0</td>\n",
       "      <td>226.0</td>\n",
       "    </tr>\n",
       "    <tr>\n",
       "      <th>2</th>\n",
       "      <td>67.0</td>\n",
       "      <td>222.0</td>\n",
       "      <td>193.0</td>\n",
       "    </tr>\n",
       "    <tr>\n",
       "      <th>3</th>\n",
       "      <td>1.0</td>\n",
       "      <td>141.0</td>\n",
       "      <td>387.0</td>\n",
       "    </tr>\n",
       "    <tr>\n",
       "      <th>4</th>\n",
       "      <td>65.0</td>\n",
       "      <td>159.0</td>\n",
       "      <td>327.0</td>\n",
       "    </tr>\n",
       "    <tr>\n",
       "      <th>6</th>\n",
       "      <td>27.0</td>\n",
       "      <td>58.0</td>\n",
       "      <td>220.0</td>\n",
       "    </tr>\n",
       "    <tr>\n",
       "      <th>7</th>\n",
       "      <td>NaN</td>\n",
       "      <td>29.0</td>\n",
       "      <td>112.0</td>\n",
       "    </tr>\n",
       "    <tr>\n",
       "      <th>8</th>\n",
       "      <td>9.0</td>\n",
       "      <td>NaN</td>\n",
       "      <td>54.0</td>\n",
       "    </tr>\n",
       "    <tr>\n",
       "      <th>9</th>\n",
       "      <td>37.0</td>\n",
       "      <td>43.0</td>\n",
       "      <td>49.0</td>\n",
       "    </tr>\n",
       "    <tr>\n",
       "      <th>10</th>\n",
       "      <td>10.0</td>\n",
       "      <td>172.0</td>\n",
       "      <td>37.0</td>\n",
       "    </tr>\n",
       "    <tr>\n",
       "      <th>11</th>\n",
       "      <td>NaN</td>\n",
       "      <td>NaN</td>\n",
       "      <td>4.0</td>\n",
       "    </tr>\n",
       "  </tbody>\n",
       "</table>\n",
       "</div>"
      ],
      "text/plain": [
       "TENDER_TYPE_DESC      0      1      2\n",
       "MEMBERSHIP_ID                        \n",
       "1                 207.0  142.0  226.0\n",
       "2                  67.0  222.0  193.0\n",
       "3                   1.0  141.0  387.0\n",
       "4                  65.0  159.0  327.0\n",
       "6                  27.0   58.0  220.0\n",
       "7                   NaN   29.0  112.0\n",
       "8                   9.0    NaN   54.0\n",
       "9                  37.0   43.0   49.0\n",
       "10                 10.0  172.0   37.0\n",
       "11                  NaN    NaN    4.0"
      ]
     },
     "execution_count": 49,
     "metadata": {},
     "output_type": "execute_result"
    }
   ],
   "source": [
    "table_pay.head(10)"
   ]
  },
  {
   "cell_type": "code",
   "execution_count": 19,
   "metadata": {},
   "outputs": [],
   "source": [
    "pay_renew=pd.merge(rp,table_pay,how='left',on='MEMBERSHIP_ID')\n",
    "pr=pay_renew.drop_duplicates(subset=['MEMBERSHIP_ID'])\n",
    "pr=pr.rename(index=str,columns={0.0:'cash',1.0:\"credit\",2.0:\"saving\"})\n",
    "pr.groupby('RENEW_IND')['cash','credit','saving'].sum()# the payment method sum of those who renew and not renew"
   ]
  },
  {
   "cell_type": "markdown",
   "metadata": {},
   "source": [
    "# Seperate dataset into basic and plus"
   ]
  },
  {
   "cell_type": "code",
   "execution_count": 34,
   "metadata": {
    "scrolled": true
   },
   "outputs": [],
   "source": [
    "basic_data=comb_data[comb_data['PLUS_STATUS_BEFORE_REN']==1]\n",
    "plus_data=comb_data[comb_data['PLUS_STATUS_BEFORE_REN']==2]"
   ]
  },
  {
   "cell_type": "markdown",
   "metadata": {},
   "source": [
    "## Basic"
   ]
  },
  {
   "cell_type": "code",
   "execution_count": 35,
   "metadata": {
    "scrolled": true
   },
   "outputs": [
    {
     "name": "stderr",
     "output_type": "stream",
     "text": [
      "/anaconda3/lib/python3.6/site-packages/pandas/core/frame.py:3694: SettingWithCopyWarning: \n",
      "A value is trying to be set on a copy of a slice from a DataFrame\n",
      "\n",
      "See the caveats in the documentation: http://pandas.pydata.org/pandas-docs/stable/indexing.html#indexing-view-versus-copy\n",
      "  errors=errors)\n",
      "/anaconda3/lib/python3.6/site-packages/pandas/core/frame.py:3787: SettingWithCopyWarning: \n",
      "A value is trying to be set on a copy of a slice from a DataFrame\n",
      "\n",
      "See the caveats in the documentation: http://pandas.pydata.org/pandas-docs/stable/indexing.html#indexing-view-versus-copy\n",
      "  downcast=downcast, **kwargs)\n"
     ]
    }
   ],
   "source": [
    "list(basic_data)\n",
    "basic_no_na=basic_data.dropna(subset = ['marital_status_desc','MILES_TO_CLUB','income_desc','ethnic_desc','nbr_children_desc','hh_size_desc'])\n",
    "basic_no_na.reset_index(inplace = True)\n",
    "basic_no_na.drop(['index'],axis = 1,inplace = True)\n",
    "basic_no_na.fillna(0,inplace = True)\n",
    "#basic_no_na.to_csv(\"basic_no_na.csv\")"
   ]
  },
  {
   "cell_type": "markdown",
   "metadata": {},
   "source": [
    "## Plus"
   ]
  },
  {
   "cell_type": "code",
   "execution_count": 38,
   "metadata": {
    "scrolled": true
   },
   "outputs": [
    {
     "name": "stderr",
     "output_type": "stream",
     "text": [
      "/anaconda3/lib/python3.6/site-packages/pandas/core/frame.py:3694: SettingWithCopyWarning: \n",
      "A value is trying to be set on a copy of a slice from a DataFrame\n",
      "\n",
      "See the caveats in the documentation: http://pandas.pydata.org/pandas-docs/stable/indexing.html#indexing-view-versus-copy\n",
      "  errors=errors)\n",
      "/anaconda3/lib/python3.6/site-packages/pandas/core/frame.py:3787: SettingWithCopyWarning: \n",
      "A value is trying to be set on a copy of a slice from a DataFrame\n",
      "\n",
      "See the caveats in the documentation: http://pandas.pydata.org/pandas-docs/stable/indexing.html#indexing-view-versus-copy\n",
      "  downcast=downcast, **kwargs)\n"
     ]
    }
   ],
   "source": [
    "plus_no_na=plus_data.dropna(subset = ['marital_status_desc','MILES_TO_CLUB','income_desc','ethnic_desc','nbr_children_desc','hh_size_desc'])\n",
    "plus_no_na.reset_index(inplace = True)\n",
    "plus_no_na.drop(['index'],axis = 1,inplace = True)\n",
    "plus_no_na.fillna(0,inplace = True)\n",
    "#plus_no_na.to_csv(\"plus_no_na\")"
   ]
  },
  {
   "cell_type": "code",
   "execution_count": 19,
   "metadata": {},
   "outputs": [],
   "source": [
    "#area = pd.merge(pos[['MEMBERSHIP_ID','MARKET_AREA_NAME']],members[['MEMBERSHIP_ID','RENEW_IND','PLUS_STATUS_BEFORE_REN']],how='left',on='MEMBERSHIP_ID')\n",
    "#area.to_csv(\"area\")"
   ]
  },
  {
   "cell_type": "code",
   "execution_count": 8,
   "metadata": {},
   "outputs": [],
   "source": [
    "pos_simple=pos[['MEMBERSHIP_ID','VISIT_DATE','VISIT_TIME','CATEGORY_DESC']]"
   ]
  },
  {
   "cell_type": "code",
   "execution_count": 13,
   "metadata": {},
   "outputs": [],
   "source": [
    "members_simple=members[['MEMBERSHIP_ID','RENEW_IND','PLUS_STATUS_BEFORE_REN']]"
   ]
  },
  {
   "cell_type": "code",
   "execution_count": 14,
   "metadata": {},
   "outputs": [],
   "source": [
    "time=pd.merge(pos_simple,members_simple,how='left',on='MEMBERSHIP_ID')"
   ]
  }
 ],
 "metadata": {
  "kernelspec": {
   "display_name": "Python 3",
   "language": "python",
   "name": "python3"
  },
  "language_info": {
   "codemirror_mode": {
    "name": "ipython",
    "version": 3
   },
   "file_extension": ".py",
   "mimetype": "text/x-python",
   "name": "python",
   "nbconvert_exporter": "python",
   "pygments_lexer": "ipython3",
   "version": "3.7.1"
  }
 },
 "nbformat": 4,
 "nbformat_minor": 2
}
